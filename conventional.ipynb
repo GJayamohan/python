{
 "cells": [
  {
   "cell_type": "code",
   "execution_count": 1,
   "id": "fa327520-0914-4520-b313-9b0b4448bc29",
   "metadata": {},
   "outputs": [
    {
     "name": "stdout",
     "output_type": "stream",
     "text": [
      "even\n"
     ]
    }
   ],
   "source": [
    "num = 6\n",
    "if num %2 == 0:\n",
    "    print(\"even\")\n",
    "else:\n",
    "    print(\"odd\")"
   ]
  },
  {
   "cell_type": "code",
   "execution_count": 8,
   "id": "44d2ec20-0a28-415e-99de-a1f295a05aa2",
   "metadata": {},
   "outputs": [
    {
     "name": "stdout",
     "output_type": "stream",
     "text": [
      "odd\n"
     ]
    }
   ],
   "source": [
    "print(\"even\") if num %2 == 0 else print(\"odd\")"
   ]
  },
  {
   "cell_type": "code",
   "execution_count": 10,
   "id": "678dd969-bd6e-4256-9b5c-a4a77d6e03d4",
   "metadata": {},
   "outputs": [
    {
     "name": "stdout",
     "output_type": "stream",
     "text": [
      "Positve\n"
     ]
    }
   ],
   "source": [
    "x = 10\n",
    "result = \"Positve\" if x > 0 else \"Negative\"\n",
    "print(result)"
   ]
  },
  {
   "cell_type": "code",
   "execution_count": 14,
   "id": "06296f61-4508-4054-8244-dba22e468d0c",
   "metadata": {},
   "outputs": [
    {
     "name": "stdin",
     "output_type": "stream",
     "text": [
      "Enter a number:  23\n"
     ]
    },
    {
     "name": "stdout",
     "output_type": "stream",
     "text": [
      "Positive\n"
     ]
    }
   ],
   "source": [
    "num = int(input(\"Enter a number: \"))\n",
    "result = \"Positive\" if num > 0 else (\"Negative\" if num < 0 else \"Zero\" )\n",
    "print(result)"
   ]
  },
  {
   "cell_type": "code",
   "execution_count": 16,
   "id": "5c9e3577-9e3c-409e-9cd8-47f1b454afaf",
   "metadata": {},
   "outputs": [
    {
     "name": "stdin",
     "output_type": "stream",
     "text": [
      "Enter a number:  -7\n"
     ]
    },
    {
     "name": "stdout",
     "output_type": "stream",
     "text": [
      "Negative\n"
     ]
    }
   ],
   "source": [
    "num = int(input(\"Enter a number: \"))\n",
    "result = \"Positive\" if num > 0 else (\"Negative\" if num < 0 else \"Zero\" )\n",
    "print(result)"
   ]
  },
  {
   "cell_type": "code",
   "execution_count": 67,
   "id": "6af55d62-2b22-4a90-9108-4e45aa2148d1",
   "metadata": {},
   "outputs": [
    {
     "data": {
      "text/plain": [
       "[2, 18, 4, 20, 112, 178]"
      ]
     },
     "execution_count": 67,
     "metadata": {},
     "output_type": "execute_result"
    }
   ],
   "source": [
    "L = [1, 9, 2, 10, 56, 89]\n",
    "[2*x for x in L]"
   ]
  },
  {
   "cell_type": "code",
   "execution_count": 69,
   "id": "102e8a98-738c-4767-a054-33a1eacbc3e5",
   "metadata": {},
   "outputs": [
    {
     "data": {
      "text/plain": [
       "[2, 10, 56]"
      ]
     },
     "execution_count": 69,
     "metadata": {},
     "output_type": "execute_result"
    }
   ],
   "source": [
    "L = [1, 9, 2, 10, 56, 89]\n",
    "[x for x in L if x%2 == 0]"
   ]
  },
  {
   "cell_type": "code",
   "execution_count": 71,
   "id": "ce053adc-56d6-4c92-9799-efc131ad53ec",
   "metadata": {},
   "outputs": [
    {
     "data": {
      "text/plain": [
       "[1, 9, 89]"
      ]
     },
     "execution_count": 71,
     "metadata": {},
     "output_type": "execute_result"
    }
   ],
   "source": [
    "L = [1, 9, 2, 10, 56, 89]\n",
    "[x for x in L if x%2 != 0]"
   ]
  },
  {
   "cell_type": "code",
   "execution_count": 77,
   "id": "81f0eaf1-b855-4dc3-8784-7b31ba448974",
   "metadata": {},
   "outputs": [
    {
     "data": {
      "text/plain": [
       "[36000.0, 70000, 90000, 55000]"
      ]
     },
     "execution_count": 77,
     "metadata": {},
     "output_type": "execute_result"
    }
   ],
   "source": [
    "sal = [30000,70000,90000,55000]\n",
    "[(x*1.2 if x <= 50000 else x) for x in sal]"
   ]
  },
  {
   "cell_type": "code",
   "execution_count": 79,
   "id": "6474c1b8-4f42-4301-ba0c-b4d7f48c481e",
   "metadata": {},
   "outputs": [
    {
     "data": {
      "text/plain": [
       "{'Ram': [70, 71, 98, 100], 'John': [56, 98, 67, 65]}"
      ]
     },
     "execution_count": 79,
     "metadata": {},
     "output_type": "execute_result"
    }
   ],
   "source": [
    "d1 = {'Ram':[70,71,98,100], 'John':[56,98,67,65]}\n",
    "d1"
   ]
  },
  {
   "cell_type": "code",
   "execution_count": 97,
   "id": "76e15051-5803-43b2-bd1f-5d5e746af052",
   "metadata": {},
   "outputs": [
    {
     "data": {
      "text/plain": [
       "{'Ram': 84.75, 'John': 71.5}"
      ]
     },
     "execution_count": 97,
     "metadata": {},
     "output_type": "execute_result"
    }
   ],
   "source": [
    "{k:sum(v)/len(v) for k,v in d1.items()}"
   ]
  },
  {
   "cell_type": "code",
   "execution_count": 101,
   "id": "6f1e54a1-2683-49a5-84b2-b848d2fc9bd5",
   "metadata": {},
   "outputs": [],
   "source": [
    "def mean_value(given_list):\n",
    "    total = sum(given_list)\n",
    "    average_value = total/len(given_list)\n",
    "    return average_value"
   ]
  },
  {
   "cell_type": "code",
   "execution_count": 113,
   "id": "e33dd5ec-0b1c-47f0-b979-9d3b2842365f",
   "metadata": {},
   "outputs": [
    {
     "data": {
      "text/plain": [
       "5.5"
      ]
     },
     "execution_count": 113,
     "metadata": {},
     "output_type": "execute_result"
    }
   ],
   "source": [
    "L = {1,2,3,4,5,6,7,8,9,10}\n",
    "mean_value(L)"
   ]
  },
  {
   "cell_type": "code",
   "execution_count": 115,
   "id": "a67b7709-bb59-419e-b7ec-d7d6ddbb6276",
   "metadata": {},
   "outputs": [],
   "source": [
    "def avg_value(*n):\n",
    "    l = len(n)\n",
    "    average = sum(n)/1\n",
    "    return average"
   ]
  },
  {
   "cell_type": "code",
   "execution_count": 121,
   "id": "55dc63e7-5ec1-45c4-a065-2abee7762c67",
   "metadata": {},
   "outputs": [
    {
     "data": {
      "text/plain": [
       "390.0"
      ]
     },
     "execution_count": 121,
     "metadata": {},
     "output_type": "execute_result"
    }
   ],
   "source": [
    "avg_value(10,20,60,100,200)"
   ]
  },
  {
   "cell_type": "code",
   "execution_count": null,
   "id": "93843225-92b3-4ff7-afc4-0571ff674baa",
   "metadata": {},
   "outputs": [],
   "source": []
  }
 ],
 "metadata": {
  "kernelspec": {
   "display_name": "Python [conda env:base] *",
   "language": "python",
   "name": "conda-base-py"
  },
  "language_info": {
   "codemirror_mode": {
    "name": "ipython",
    "version": 3
   },
   "file_extension": ".py",
   "mimetype": "text/x-python",
   "name": "python",
   "nbconvert_exporter": "python",
   "pygments_lexer": "ipython3",
   "version": "3.12.7"
  }
 },
 "nbformat": 4,
 "nbformat_minor": 5
}
