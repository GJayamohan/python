{
 "cells": [
  {
   "cell_type": "code",
   "execution_count": 2,
   "id": "c326c6e1-3b24-48f4-87bc-4e8057186343",
   "metadata": {},
   "outputs": [],
   "source": [
    "greet = lambda name : print(f\"Good Morning {name}!\")"
   ]
  },
  {
   "cell_type": "code",
   "execution_count": 4,
   "id": "bcbf597a-468c-4ee2-9ebf-592024ca9654",
   "metadata": {},
   "outputs": [
    {
     "name": "stdout",
     "output_type": "stream",
     "text": [
      "Good Morning Venky!\n"
     ]
    }
   ],
   "source": [
    "greet(\"Venky\")"
   ]
  },
  {
   "cell_type": "code",
   "execution_count": 6,
   "id": "544d3486-f3ce-42fe-b677-129a1ea4af54",
   "metadata": {},
   "outputs": [],
   "source": [
    "product = lambda a,b,c, : a*b*c"
   ]
  },
  {
   "cell_type": "code",
   "execution_count": null,
   "id": "ea007f4a-29f1-4889-84ae-09b5a1163ed3",
   "metadata": {},
   "outputs": [],
   "source": [
    "product(30,20,10)"
   ]
  },
  {
   "cell_type": "code",
   "execution_count": null,
   "id": "616ccf38-4508-4452-98e0-1e8a00e6dad8",
   "metadata": {},
   "outputs": [],
   "source": [
    "even = lambda L : [x for x in L if x%2 ==0]"
   ]
  },
  {
   "cell_type": "code",
   "execution_count": null,
   "id": "257d48e5-3445-4d8d-95d6-fc7b0e0f3ac8",
   "metadata": {},
   "outputs": [],
   "source": [
    "my_list = [100,3,9,38,43,56,20]\n",
    "even(my_list)"
   ]
  }
 ],
 "metadata": {
  "kernelspec": {
   "display_name": "Python [conda env:base] *",
   "language": "python",
   "name": "conda-base-py"
  },
  "language_info": {
   "codemirror_mode": {
    "name": "ipython",
    "version": 3
   },
   "file_extension": ".py",
   "mimetype": "text/x-python",
   "name": "python",
   "nbconvert_exporter": "python",
   "pygments_lexer": "ipython3",
   "version": "3.12.7"
  }
 },
 "nbformat": 4,
 "nbformat_minor": 5
}
