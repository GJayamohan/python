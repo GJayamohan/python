{
 "cells": [
  {
   "cell_type": "code",
   "execution_count": 11,
   "id": "825a96ee-7935-40f1-b6cb-4b361da9ceb7",
   "metadata": {},
   "outputs": [],
   "source": [
    "orders = [[\"apple\", 6], [\"mongo\", 4], [\"orange\", 4]] \n",
    "    "
   ]
  },
  {
   "cell_type": "code",
   "execution_count": 15,
   "id": "5a35d453-b737-45ce-9e8b-24a406362e99",
   "metadata": {},
   "outputs": [
    {
     "name": "stdout",
     "output_type": "stream",
     "text": [
      "[['apple', 15], ['mongo', 4], ['orange', 4]]\n",
      "[['apple', 15], ['mongo', 4], ['orange', 4]]\n",
      "[['apple', 15], ['mongo', 4], ['orange', 4]]\n"
     ]
    }
   ],
   "source": [
    "for each in orders:\n",
    "    if each[0] == \"apple\":\n",
    "        each[1] = 15\n",
    "    print(orders)"
   ]
  },
  {
   "cell_type": "code",
   "execution_count": 19,
   "id": "5b8bb7f3-b6da-49cc-945e-0829027887fd",
   "metadata": {},
   "outputs": [
    {
     "name": "stdout",
     "output_type": "stream",
     "text": [
      "[15]\n",
      "15\n"
     ]
    }
   ],
   "source": [
    "total = []\n",
    "for item in orders:\n",
    "    if item[0] == \"apple\":\n",
    "        total.append(item[1])\n",
    "print(total)\n",
    "print(sum(total))"
   ]
  },
  {
   "cell_type": "code",
   "execution_count": 23,
   "id": "6cf46ba8-5362-491c-bac1-451dc210b4b6",
   "metadata": {},
   "outputs": [],
   "source": [
    "orders.append([\"apple\",25])"
   ]
  },
  {
   "cell_type": "code",
   "execution_count": 27,
   "id": "5adc34c4-9ced-4040-84f0-742b639cc0d4",
   "metadata": {},
   "outputs": [
    {
     "name": "stdout",
     "output_type": "stream",
     "text": [
      "[['apple', 15], ['mongo', 4], ['orange', 4], ['apple', 25], ['apple', 25]]\n"
     ]
    }
   ],
   "source": [
    "print(orders)"
   ]
  },
  {
   "cell_type": "code",
   "execution_count": 29,
   "id": "a6165ef5-31c5-4e36-88e3-52e0573774eb",
   "metadata": {},
   "outputs": [
    {
     "name": "stdout",
     "output_type": "stream",
     "text": [
      "[15, 25, 25]\n",
      "65\n"
     ]
    }
   ],
   "source": [
    "total = []\n",
    "for item in orders:\n",
    "    if item[0] == \"apple\":\n",
    "        total.append(item[1])\n",
    "print(total)\n",
    "print(sum(total))"
   ]
  },
  {
   "cell_type": "code",
   "execution_count": 43,
   "id": "66d83cf1-7f3d-4fe3-9732-861fed7a41ce",
   "metadata": {},
   "outputs": [
    {
     "name": "stdout",
     "output_type": "stream",
     "text": [
      "(3, 4, 9, 'A', 5.2) ('Hello', 5, 10, 20)\n",
      "<class 'tuple'>\n",
      "<class 'tuple'>\n"
     ]
    }
   ],
   "source": [
    "#Tuples\n",
    "tup1 = (3,4,9,'A',5.2 )\n",
    "tup2 = \"Hello\",5,10,20\n",
    "print(tup1, tup2)\n",
    "print(type(tup1))\n",
    "print(type(tup2))"
   ]
  },
  {
   "cell_type": "code",
   "execution_count": 49,
   "id": "1ce99fed-1e95-4b22-bee8-81f7cd825f23",
   "metadata": {},
   "outputs": [
    {
     "data": {
      "text/plain": [
       "(3, 4, 9, 'A')"
      ]
     },
     "execution_count": 49,
     "metadata": {},
     "output_type": "execute_result"
    }
   ],
   "source": [
    "tup1[0:4]"
   ]
  },
  {
   "cell_type": "code",
   "execution_count": 70,
   "id": "d9dcfeca-2f0f-44d3-ad61-fa5dedce5c7a",
   "metadata": {},
   "outputs": [
    {
     "data": {
      "text/plain": [
       "1"
      ]
     },
     "execution_count": 70,
     "metadata": {},
     "output_type": "execute_result"
    }
   ],
   "source": [
    "tup2 = (10,20,1,10,10,30,10)\n",
    "tup2.count(20)"
   ]
  },
  {
   "cell_type": "code",
   "execution_count": 74,
   "id": "cfa4b4b0-fed4-442c-8b87-6bd9b115b67e",
   "metadata": {},
   "outputs": [
    {
     "name": "stdout",
     "output_type": "stream",
     "text": [
      "1\n",
      "4\n"
     ]
    }
   ],
   "source": [
    "tup2 = (10,20,1,10,10,30,10)\n",
    "print(tup2.count(20))\n",
    "print(tup2.count(10))"
   ]
  },
  {
   "cell_type": "code",
   "execution_count": 77,
   "id": "60561193-5df3-49a0-9f2a-6ed95d91da53",
   "metadata": {},
   "outputs": [
    {
     "name": "stdout",
     "output_type": "stream",
     "text": [
      "{'a': 1, 'b': 2, 'c': 3}\n",
      "<class 'dict'>\n"
     ]
    }
   ],
   "source": [
    "#Create Dictionary\n",
    "d1 = {\"a\": 1, \"b\": 2, \"c\": 3}\n",
    "print(d1)\n",
    "print(type(d1))"
   ]
  },
  {
   "cell_type": "code",
   "execution_count": 81,
   "id": "9e56229e-45e1-4663-a26a-7acc97298e94",
   "metadata": {},
   "outputs": [
    {
     "name": "stdout",
     "output_type": "stream",
     "text": [
      "{'A': 10, 'B': 20, 'C': 30}\n"
     ]
    }
   ],
   "source": [
    "d2 = dict(A=10, B=20, C=30)\n",
    "print(d2)"
   ]
  },
  {
   "cell_type": "code",
   "execution_count": 83,
   "id": "686cab81-a4bd-4278-a7ad-6d477e170dbc",
   "metadata": {},
   "outputs": [
    {
     "name": "stdout",
     "output_type": "stream",
     "text": [
      "{'x': 1, 'y': 2, 'z': 3}\n"
     ]
    }
   ],
   "source": [
    "d3 = dict([(\"x\", 1), (\"y\", 2), (\"z\", 3)])\n",
    "print(d3)"
   ]
  },
  {
   "cell_type": "code",
   "execution_count": 33,
   "id": "fbaf0ebf-6821-4323-877e-622f2c660879",
   "metadata": {},
   "outputs": [],
   "source": [
    "scores = {'virat':20,\n",
    "          'rohit':100,\n",
    "          'gill':70,\n",
    "          'rahul':40,\n",
    "          'hardik':25,\n",
    "          'jadeja':98,\n",
    "          'siraj':15 }"
   ]
  },
  {
   "cell_type": "code",
   "execution_count": 17,
   "id": "e0a16e2a-3543-4af1-a894-11dfdc803f22",
   "metadata": {},
   "outputs": [
    {
     "data": {
      "text/plain": [
       "20"
      ]
     },
     "execution_count": 17,
     "metadata": {},
     "output_type": "execute_result"
    }
   ],
   "source": [
    "scores.get(\"virat\")"
   ]
  },
  {
   "cell_type": "code",
   "execution_count": 19,
   "id": "05f09419-4188-4a1d-bf21-bdc73ebf566e",
   "metadata": {},
   "outputs": [
    {
     "data": {
      "text/plain": [
       "{'A': None, 'B': None, 'C': None, 'D': None}"
      ]
     },
     "execution_count": 19,
     "metadata": {},
     "output_type": "execute_result"
    }
   ],
   "source": [
    "list1 = [\"A\",\"B\",\"C\",\"D\"]\n",
    "my_dict = dict.fromkeys(list1)\n",
    "my_dict\n"
   ]
  },
  {
   "cell_type": "code",
   "execution_count": 35,
   "id": "04fd29ae-723c-4018-9a01-c86a17f9aa99",
   "metadata": {},
   "outputs": [
    {
     "data": {
      "text/plain": [
       "{'A': 14, 'B': 38, 'C': None, 'D': None}"
      ]
     },
     "execution_count": 35,
     "metadata": {},
     "output_type": "execute_result"
    }
   ],
   "source": [
    "my_dict.update({\"A\":14,\"B\":38})\n",
    "my_dict"
   ]
  },
  {
   "cell_type": "code",
   "execution_count": 27,
   "id": "ecce340e-b7de-48b0-b970-20a7b6dda722",
   "metadata": {},
   "outputs": [
    {
     "name": "stdout",
     "output_type": "stream",
     "text": [
      "dict_keys(['virat', 'rohit', 'gill', 'rahul'])\n",
      "dict_values([20, 100, 70, 40])\n",
      "dict_items([('virat', 20), ('rohit', 100), ('gill', 70), ('rahul', 40)])\n"
     ]
    }
   ],
   "source": [
    "print(scores.keys())\n",
    "print(scores.values())\n",
    "print(scores.items())"
   ]
  },
  {
   "cell_type": "code",
   "execution_count": 37,
   "id": "23e3cfef-ed12-4d59-8180-a39c05491826",
   "metadata": {},
   "outputs": [
    {
     "data": {
      "text/plain": [
       "{'virat': 20,\n",
       " 'rohit': 100,\n",
       " 'gill': 70,\n",
       " 'rahul': 40,\n",
       " 'hardik': 19,\n",
       " 'jadeja': 98,\n",
       " 'siraj': 15}"
      ]
     },
     "execution_count": 37,
     "metadata": {},
     "output_type": "execute_result"
    }
   ],
   "source": [
    "for k in scores.keys():\n",
    "    if k == 'hardik':\n",
    "        scores[k] = 19\n",
    "scores"
   ]
  },
  {
   "cell_type": "code",
   "execution_count": 41,
   "id": "7eaf5735-7b3e-4def-a31e-067dd97c88c5",
   "metadata": {},
   "outputs": [
    {
     "name": "stdout",
     "output_type": "stream",
     "text": [
      "[20, 100, 70, 40, 19, 98, 15]\n",
      "Total Score:  362\n"
     ]
    }
   ],
   "source": [
    "scores_list = []\n",
    "for v in scores.values():\n",
    "    scores_list.append(v)\n",
    "print(scores_list)\n",
    "print(\"Total Score: \", sum(scores_list))\n"
   ]
  },
  {
   "cell_type": "code",
   "execution_count": 48,
   "id": "30a7ce7b-bc02-49db-b877-887630bbe4f7",
   "metadata": {},
   "outputs": [
    {
     "name": "stdout",
     "output_type": "stream",
     "text": [
      "362\n",
      "Contribution of virat to total score: 5.524861878453039\n",
      "Contribution of rohit to total score: 27.624309392265197\n",
      "Contribution of gill to total score: 19.337016574585636\n",
      "Contribution of rahul to total score: 11.049723756906078\n",
      "Contribution of hardik to total score: 5.248618784530387\n",
      "Contribution of jadeja to total score: 27.071823204419886\n",
      "Contribution of siraj to total score: 4.143646408839778\n"
     ]
    }
   ],
   "source": [
    "total_score = sum(scores.values())\n",
    "print(total_score)\n",
    "for k,v in scores.items():\n",
    "    print(f\"Contribution of {k} to total score: {(v/total_score)*100}\")"
   ]
  },
  {
   "cell_type": "code",
   "execution_count": 1,
   "id": "ab9fd20b-dc22-4dce-9161-57be785769d2",
   "metadata": {},
   "outputs": [],
   "source": [
    "s1 = {2, 3, 5, 6, 7}\n",
    "s2 = {5, 6, 7}"
   ]
  },
  {
   "cell_type": "code",
   "execution_count": 7,
   "id": "5d0887b8-3a0e-419e-adb7-96d83245f3f0",
   "metadata": {},
   "outputs": [
    {
     "data": {
      "text/plain": [
       "{2, 3}"
      ]
     },
     "execution_count": 7,
     "metadata": {},
     "output_type": "execute_result"
    }
   ],
   "source": [
    "s1-s2"
   ]
  },
  {
   "cell_type": "code",
   "execution_count": 9,
   "id": "638e698c-3a67-4c0e-851d-d448c9e6238a",
   "metadata": {},
   "outputs": [
    {
     "data": {
      "text/plain": [
       "set()"
      ]
     },
     "execution_count": 9,
     "metadata": {},
     "output_type": "execute_result"
    }
   ],
   "source": [
    "s2-s1"
   ]
  },
  {
   "cell_type": "code",
   "execution_count": 17,
   "id": "728792d1-86e3-4d16-bede-6541d23cf0f5",
   "metadata": {},
   "outputs": [
    {
     "data": {
      "text/plain": [
       "True"
      ]
     },
     "execution_count": 17,
     "metadata": {},
     "output_type": "execute_result"
    }
   ],
   "source": [
    "s2.issubset(s1)"
   ]
  },
  {
   "cell_type": "code",
   "execution_count": 19,
   "id": "6b54aa90-445c-41e1-8ba0-2878ab464986",
   "metadata": {},
   "outputs": [
    {
     "data": {
      "text/plain": [
       "False"
      ]
     },
     "execution_count": 19,
     "metadata": {},
     "output_type": "execute_result"
    }
   ],
   "source": [
    "s1.issubset(s2)"
   ]
  },
  {
   "cell_type": "code",
   "execution_count": 21,
   "id": "0ad7d131-4af3-475f-a602-eabbc5da06d4",
   "metadata": {},
   "outputs": [
    {
     "data": {
      "text/plain": [
       "False"
      ]
     },
     "execution_count": 21,
     "metadata": {},
     "output_type": "execute_result"
    }
   ],
   "source": [
    "s2.issuperset(s1)"
   ]
  },
  {
   "cell_type": "code",
   "execution_count": 25,
   "id": "b8b36fbf-d60c-44a8-a9cd-7986d93e87bc",
   "metadata": {},
   "outputs": [
    {
     "data": {
      "text/plain": [
       "True"
      ]
     },
     "execution_count": 25,
     "metadata": {},
     "output_type": "execute_result"
    }
   ],
   "source": [
    "s1.issuperset(s2)"
   ]
  },
  {
   "cell_type": "code",
   "execution_count": 34,
   "id": "ecb785ae-3f51-4f60-b5c6-73b5a91bbc46",
   "metadata": {},
   "outputs": [],
   "source": [
    " str1 = \"Welcome to aiml class\"\n",
    " str2 = \"We started with python\"\n",
    " str3 = '''This ia an awesome class'''"
   ]
  },
  {
   "cell_type": "code",
   "execution_count": 38,
   "id": "941ca2ee-f988-4017-831d-1701047f59d9",
   "metadata": {},
   "outputs": [
    {
     "name": "stdout",
     "output_type": "stream",
     "text": [
      "<class 'str'>\n",
      "<class 'str'>\n",
      "<class 'str'>\n"
     ]
    }
   ],
   "source": [
    "print(type(str1))\n",
    "print(type(str2))\n",
    "print(type(str3))"
   ]
  },
  {
   "cell_type": "code",
   "execution_count": 40,
   "id": "76b8dcf2-8fa1-478d-ba35-581b03a66b2d",
   "metadata": {},
   "outputs": [
    {
     "name": "stdout",
     "output_type": "stream",
     "text": [
      "Welcome to aiml class\n"
     ]
    },
    {
     "data": {
      "text/plain": [
       "'me to'"
      ]
     },
     "execution_count": 40,
     "metadata": {},
     "output_type": "execute_result"
    }
   ],
   "source": [
    "print(str1)\n",
    "str1[5:10]"
   ]
  },
  {
   "cell_type": "code",
   "execution_count": 42,
   "id": "c7cd9ae0-8daf-4901-8950-674fdddb207c",
   "metadata": {},
   "outputs": [
    {
     "name": "stdout",
     "output_type": "stream",
     "text": [
      "Welcome to aiml class\n"
     ]
    },
    {
     "data": {
      "text/plain": [
       "['Welcome', 'to', 'aiml', 'class']"
      ]
     },
     "execution_count": 42,
     "metadata": {},
     "output_type": "execute_result"
    }
   ],
   "source": [
    "print(str1)\n",
    "str1.split()"
   ]
  },
  {
   "cell_type": "code",
   "execution_count": 58,
   "id": "62d2ea00-1a94-49c0-80a4-219c709294f7",
   "metadata": {},
   "outputs": [
    {
     "data": {
      "text/plain": [
       "'WWelcome to aiml classeWelcome to aiml class Welcome to aiml classsWelcome to aiml classtWelcome to aiml classaWelcome to aiml classrWelcome to aiml classtWelcome to aiml classeWelcome to aiml classdWelcome to aiml class Welcome to aiml classwWelcome to aiml classiWelcome to aiml classtWelcome to aiml classhWelcome to aiml class Welcome to aiml classpWelcome to aiml classyWelcome to aiml classtWelcome to aiml classhWelcome to aiml classoWelcome to aiml classn'"
      ]
     },
     "execution_count": 58,
     "metadata": {},
     "output_type": "execute_result"
    }
   ],
   "source": [
    "str1.join(str2)"
   ]
  },
  {
   "cell_type": "code",
   "execution_count": 70,
   "id": "c1f63393-61bc-4365-9813-d53140e1b835",
   "metadata": {},
   "outputs": [
    {
     "data": {
      "text/plain": [
       "'H  e  l  l  o  .     H  o  w     a  r  e     y  o  u  ?'"
      ]
     },
     "execution_count": 70,
     "metadata": {},
     "output_type": "execute_result"
    }
   ],
   "source": [
    "str4 = \"Hello. How are you?\"\n",
    "'  '.join(str4)"
   ]
  },
  {
   "cell_type": "code",
   "execution_count": null,
   "id": "b120f357-165e-4130-bda8-96be5e89f340",
   "metadata": {},
   "outputs": [],
   "source": []
  },
  {
   "cell_type": "code",
   "execution_count": null,
   "id": "df9b38c3-5e36-4bf8-a51b-8ef461cd97a8",
   "metadata": {},
   "outputs": [],
   "source": [
    "str5 = \"   Hello, hoe are you?   \" "
   ]
  },
  {
   "cell_type": "code",
   "execution_count": 76,
   "id": "1aaea647-f1d8-4ab8-8953-d20364c823e2",
   "metadata": {},
   "outputs": [
    {
     "ename": "SyntaxError",
     "evalue": "invalid syntax (1921189754.py, line 3)",
     "output_type": "error",
     "traceback": [
      "\u001b[1;36m  Cell \u001b[1;32mIn[76], line 3\u001b[1;36m\u001b[0m\n\u001b[1;33m    \"Review2\" : \"Good service but the packaging could have been better\"\u001b[0m\n\u001b[1;37m              ^\u001b[0m\n\u001b[1;31mSyntaxError\u001b[0m\u001b[1;31m:\u001b[0m invalid syntax\n"
     ]
    }
   ],
   "source": [
    "reviews = {\n",
    "    \"Review1\" : \"The produc quality is excellent and delivery was prompt\"\n",
    "    \"Review2\" : \"Good service but the packaging could have been better\"\n",
    "    \"Review3\" : \"very bad delivery\"\n",
    "}"
   ]
  },
  {
   "cell_type": "code",
   "execution_count": null,
   "id": "cf7d955a-9039-4c6f-b746-950151c2f4e4",
   "metadata": {},
   "outputs": [],
   "source": [
    "for key, review in reviewa.items():\n",
    "    words = review.lower().replace('.', '').replace('.', '').split()\n",
    "    review_analysis[key] = {"
   ]
  },
  {
   "cell_type": "code",
   "execution_count": null,
   "id": "b09f5454-3a28-453d-af7f-a15fe604c5af",
   "metadata": {},
   "outputs": [],
   "source": []
  },
  {
   "cell_type": "code",
   "execution_count": null,
   "id": "426f7de5-d1cf-4ef4-923f-767c87b7b2b8",
   "metadata": {},
   "outputs": [],
   "source": []
  },
  {
   "cell_type": "code",
   "execution_count": null,
   "id": "b8e23b49-0c02-45bd-b8a9-9c9b316734bb",
   "metadata": {},
   "outputs": [],
   "source": []
  },
  {
   "cell_type": "code",
   "execution_count": null,
   "id": "a8a7314c-d922-4d44-8cfb-99a3c4ec481c",
   "metadata": {},
   "outputs": [],
   "source": []
  },
  {
   "cell_type": "code",
   "execution_count": null,
   "id": "2bdc20e3-7bd6-4602-9445-bcb6a2e855b7",
   "metadata": {},
   "outputs": [],
   "source": []
  },
  {
   "cell_type": "code",
   "execution_count": null,
   "id": "9842e80c-c6fd-493e-a4bd-c1218254936c",
   "metadata": {},
   "outputs": [],
   "source": []
  },
  {
   "cell_type": "code",
   "execution_count": null,
   "id": "194c8dfc-522f-4f33-b61c-e8b0d809c0b5",
   "metadata": {},
   "outputs": [],
   "source": []
  },
  {
   "cell_type": "code",
   "execution_count": null,
   "id": "18408954-5bba-4d76-9330-74e01b08a289",
   "metadata": {},
   "outputs": [],
   "source": []
  },
  {
   "cell_type": "code",
   "execution_count": null,
   "id": "7bb992c0-7db0-4449-9f17-ed1130bb154e",
   "metadata": {},
   "outputs": [],
   "source": []
  },
  {
   "cell_type": "code",
   "execution_count": null,
   "id": "5eb35750-956d-4159-83ad-eda76c2fe758",
   "metadata": {},
   "outputs": [],
   "source": []
  }
 ],
 "metadata": {
  "kernelspec": {
   "display_name": "Python [conda env:base] *",
   "language": "python",
   "name": "conda-base-py"
  },
  "language_info": {
   "codemirror_mode": {
    "name": "ipython",
    "version": 3
   },
   "file_extension": ".py",
   "mimetype": "text/x-python",
   "name": "python",
   "nbconvert_exporter": "python",
   "pygments_lexer": "ipython3",
   "version": "3.12.7"
  }
 },
 "nbformat": 4,
 "nbformat_minor": 5
}
